{
 "cells": [
  {
   "cell_type": "markdown",
   "metadata": {},
   "source": [
    "Import libraries"
   ]
  },
  {
   "cell_type": "code",
   "execution_count": 1,
   "metadata": {},
   "outputs": [],
   "source": [
    "\n",
    "import pandas as pd \n",
    "from geopy.geocoders import Nominatim\n",
    "from geopy.exc import GeocoderTimedOut\n",
    "import folium"
   ]
  },
  {
   "cell_type": "code",
   "execution_count": 2,
   "metadata": {},
   "outputs": [],
   "source": [
    "# geolocator = Nominatim(user_agent=\"MyLocator\")\n",
    "# indirizzo = \"Corso Italia, Genova\"\n",
    "# location = geolocator.geocode(indirizzo)\n",
    "\n",
    "# if location:\n",
    "#     print(f\"indirizzo: {location.address}\")\n",
    "#     print(f\"latitudine: {location.latitude}, longitudine: {location.longitude}\")\n",
    "# else:\n",
    "#     print(\"Indirizzo non trovato\")"
   ]
  },
  {
   "cell_type": "markdown",
   "metadata": {},
   "source": [
    "General func:\\\n",
    "it returns a dict with information about the address given in input (or list of address)"
   ]
  },
  {
   "cell_type": "code",
   "execution_count": 3,
   "metadata": {},
   "outputs": [],
   "source": [
    "def verifica_indirizzi(lista_indirizzi):\n",
    "    geolocator = Nominatim(user_agent='MyAPP')\n",
    "    risultati = {}\n",
    "    for ind in lista_indirizzi:\n",
    "        try :\n",
    "            location = geolocator.geocode(ind, timeout = 30, addressdetails=True)\n",
    "            print(location)\n",
    "            if location : \n",
    "                dettagli = location.raw.get('address',{})\n",
    "                print(f\"Dettagli indirizzo per '{ind}': {dettagli}\")\n",
    "                # citta\n",
    "                citta = dettagli.get('city') or dettagli.get('village') or ('Non disponibile')\n",
    "                # regione\n",
    "                regione = dettagli.get('state', 'Non disponibile')\n",
    "                # nazione\n",
    "                stato = dettagli.get('country', 'Non disponibile')\n",
    "                \n",
    "\n",
    "                risultati[ind] = (True, location.latitude, location.longitude, citta, regione, stato)\n",
    "            else:\n",
    "                risultati[ind] =(False, None, None, None, None, None)\n",
    "        except GeocoderTimedOut:\n",
    "            risultati[ind] = (False, None, None, 'Timeout', 'Non disponibile', 'Non disponibile')\n",
    "        except Exception as e:\n",
    "            risultati[ind] = (False, None, None, f'Errore: {e}', 'Non disponibile', 'Non disponibile')\n",
    "    \n",
    "    return risultati\n"
   ]
  },
  {
   "cell_type": "code",
   "execution_count": 4,
   "metadata": {},
   "outputs": [],
   "source": [
    "list_indi = ['Viale Italia 17', 'Località Moggie, Zignago']\n"
   ]
  },
  {
   "cell_type": "code",
   "execution_count": 5,
   "metadata": {},
   "outputs": [
    {
     "name": "stdout",
     "output_type": "stream",
     "text": [
      "17, Viale Italia, Rimini, Emilia-Romagna, 47921, Italia\n",
      "Dettagli indirizzo per 'Viale Italia 17': {'house_number': '17', 'road': 'Viale Italia', 'city': 'Rimini', 'county': 'Rimini', 'ISO3166-2-lvl6': 'IT-RN', 'state': 'Emilia-Romagna', 'ISO3166-2-lvl4': 'IT-45', 'postcode': '47921', 'country': 'Italia', 'country_code': 'it'}\n",
      "Località Moggie, Pieve, Zignago, La Spezia, Liguria, Italia\n",
      "Dettagli indirizzo per 'Località Moggie, Zignago': {'road': 'Località Moggie', 'village': 'Pieve', 'municipality': 'Zignago', 'county': 'La Spezia', 'ISO3166-2-lvl6': 'IT-SP', 'state': 'Liguria', 'ISO3166-2-lvl4': 'IT-42', 'country': 'Italia', 'country_code': 'it'}\n"
     ]
    }
   ],
   "source": [
    "output = verifica_indirizzi(list_indi)"
   ]
  },
  {
   "cell_type": "code",
   "execution_count": 6,
   "metadata": {},
   "outputs": [
    {
     "data": {
      "text/plain": [
       "{'Viale Italia 17': (True,\n",
       "  44.066877,\n",
       "  12.5373394,\n",
       "  'Rimini',\n",
       "  'Emilia-Romagna',\n",
       "  'Italia'),\n",
       " 'Località Moggie, Zignago': (True,\n",
       "  44.2756399,\n",
       "  9.7367293,\n",
       "  'Pieve',\n",
       "  'Liguria',\n",
       "  'Italia')}"
      ]
     },
     "execution_count": 6,
     "metadata": {},
     "output_type": "execute_result"
    }
   ],
   "source": [
    "output"
   ]
  },
  {
   "cell_type": "markdown",
   "metadata": {},
   "source": [
    "general function: \n",
    "it generates an html map where the addresses are marked based on coordinates obtained previously"
   ]
  },
  {
   "cell_type": "code",
   "execution_count": 7,
   "metadata": {},
   "outputs": [],
   "source": [
    "def mappa_dinamica(risultati):\n",
    "    indirizzi_corretti = [val for val in risultati.values() if val[0]]\n",
    "    if indirizzi_corretti:\n",
    "        centro_lat, centro_long = indirizzi_corretti[0][1], indirizzi_corretti[0][2]\n",
    "    else:\n",
    "        centro_lat, centro_long = 0,0\n",
    "    mappa = folium.Map(location=[centro_lat, centro_long], zoom_start=6)\n",
    " \n",
    " \n",
    "    for indirizzo, (valido, lat,log, citta, regione, stato) in risultati.items():\n",
    "        if valido:\n",
    "            popup_info = f\"Indirizzo : {indirizzo} <br> Città: {citta}  <br> Regione: {regione} <br> Stato: {stato} <br>  coordinate ({lat}, {log})\"\n",
    "            folium.Marker(\n",
    "                [lat, log],\n",
    "                popup=folium.Popup(popup_info, max_width=300),\n",
    "                tooltip=f\"{citta}\"\n",
    "            ).add_to(mappa)\n",
    "\n",
    "    return mappa\n"
   ]
  },
  {
   "cell_type": "code",
   "execution_count": 8,
   "metadata": {},
   "outputs": [],
   "source": [
    "map_interactive = mappa_dinamica(output)"
   ]
  },
  {
   "cell_type": "markdown",
   "metadata": {},
   "source": [
    "save map"
   ]
  },
  {
   "cell_type": "code",
   "execution_count": 9,
   "metadata": {},
   "outputs": [
    {
     "name": "stdout",
     "output_type": "stream",
     "text": [
      "La mappa è stata salvata come 'mappa_indirizzi.html'. Apri il file per visualizzarla.\n"
     ]
    }
   ],
   "source": [
    "map_interactive.save(r\"mappa_indirizzi.html\")\n",
    "print(\"La mappa è stata salvata come 'mappa_indirizzi.html'. Apri il file per visualizzarla.\")"
   ]
  },
  {
   "cell_type": "code",
   "execution_count": 10,
   "metadata": {},
   "outputs": [
    {
     "name": "stdout",
     "output_type": "stream",
     "text": [
      "/home/denise/mappa_indirizzi.html\n"
     ]
    }
   ],
   "source": [
    "import os\n",
    "print(os.path.abspath(\"mappa_indirizzi.html\"))"
   ]
  }
 ],
 "metadata": {
  "kernelspec": {
   "display_name": "ABBY",
   "language": "python",
   "name": "abby"
  },
  "language_info": {
   "codemirror_mode": {
    "name": "ipython",
    "version": 3
   },
   "file_extension": ".py",
   "mimetype": "text/x-python",
   "name": "python",
   "nbconvert_exporter": "python",
   "pygments_lexer": "ipython3",
   "version": "3.12.7"
  }
 },
 "nbformat": 4,
 "nbformat_minor": 2
}
