{
 "cells": [
  {
   "cell_type": "markdown",
   "metadata": {},
   "source": [
    "Import libraries"
   ]
  },
  {
   "cell_type": "code",
   "execution_count": 8,
   "metadata": {},
   "outputs": [],
   "source": [
    "\n",
    "import pandas as pd \n",
    "from geopy.geocoders import Nominatim\n",
    "from geopy.exc import GeocoderTimedOut\n",
    "import folium\n",
    "\n",
    "\n",
    "# definire il path in cui è stato clonato il repository\n",
    "path =r\"/mnt/c/Users/denise/Sviluppo/Repos/Address_verifier/\"\n",
    "import sys\n",
    "sys.path.append(path)\n",
    "import functions as mav "
   ]
  },
  {
   "cell_type": "code",
   "execution_count": 9,
   "metadata": {},
   "outputs": [],
   "source": [
    "# geolocator = Nominatim(user_agent=\"MyLocator\")\n",
    "# indirizzo = \"Corso Italia, Genova\"\n",
    "# location = geolocator.geocode(indirizzo)\n",
    "\n",
    "# if location:\n",
    "#     print(f\"indirizzo: {location.address}\")\n",
    "#     print(f\"latitudine: {location.latitude}, longitudine: {location.longitude}\")\n",
    "# else:\n",
    "#     print(\"Indirizzo non trovato\")"
   ]
  },
  {
   "cell_type": "code",
   "execution_count": 10,
   "metadata": {},
   "outputs": [],
   "source": [
    "list_indi = ['Viale Italia 17', 'Località Moggie, Zignago']\n"
   ]
  },
  {
   "cell_type": "markdown",
   "metadata": {},
   "source": [
    "Function that checks for the existence of an address, takes in input a list of addresses"
   ]
  },
  {
   "cell_type": "code",
   "execution_count": null,
   "metadata": {},
   "outputs": [],
   "source": [
    "output = mav.verifica_indirizzi(list_indi)"
   ]
  },
  {
   "cell_type": "markdown",
   "metadata": {},
   "source": [
    "general function: \n",
    "it generates an html map where the addresses are marked based on coordinates obtained previously"
   ]
  },
  {
   "cell_type": "code",
   "execution_count": 12,
   "metadata": {},
   "outputs": [],
   "source": [
    "map_interactive = mav.mappa_dinamica(output)"
   ]
  },
  {
   "cell_type": "markdown",
   "metadata": {},
   "source": [
    "save map"
   ]
  },
  {
   "cell_type": "code",
   "execution_count": null,
   "metadata": {},
   "outputs": [],
   "source": [
    "map_interactive.save(r\"mappa_indirizzi.html\")\n",
    "print(\"La mappa è stata salvata come 'mappa_indirizzi.html'. Apri il file per visualizzarla.\")"
   ]
  },
  {
   "cell_type": "code",
   "execution_count": null,
   "metadata": {},
   "outputs": [],
   "source": [
    "import os\n",
    "print(os.path.abspath(\"mappa_indirizzi.html\"))"
   ]
  }
 ],
 "metadata": {
  "kernelspec": {
   "display_name": "ABBY",
   "language": "python",
   "name": "abby"
  },
  "language_info": {
   "codemirror_mode": {
    "name": "ipython",
    "version": 3
   },
   "file_extension": ".py",
   "mimetype": "text/x-python",
   "name": "python",
   "nbconvert_exporter": "python",
   "pygments_lexer": "ipython3",
   "version": "3.12.7"
  }
 },
 "nbformat": 4,
 "nbformat_minor": 2
}
