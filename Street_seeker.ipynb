{
 "cells": [
  {
   "cell_type": "markdown",
   "metadata": {},
   "source": [
    "Function that returns a list of all the streets in a specific city. The function takes as arguments the city and a keyword that could be a substring of the street you want to search for."
   ]
  },
  {
   "cell_type": "code",
   "execution_count": 15,
   "metadata": {},
   "outputs": [],
   "source": [
    "import requests\n",
    "\n",
    "# definire il path in cui è stato clonato il repository\n",
    "path =r\"/mnt/c/Users/denise/Sviluppo/Repos/Address_verifier/\"\n",
    "import sys\n",
    "sys.path.append(path)\n",
    "import functions as mav "
   ]
  },
  {
   "cell_type": "code",
   "execution_count": 16,
   "metadata": {},
   "outputs": [],
   "source": [
    "# Esempio di utilizzo\n",
    "citta = \"Genova\"\n",
    "nome_via = \"Invrea\"\n",
    "risultati = mav.cerca_vie_con_nome(citta, nome_via)\n"
   ]
  },
  {
   "cell_type": "code",
   "execution_count": 17,
   "metadata": {},
   "outputs": [
    {
     "data": {
      "text/plain": [
       "['Piazza Invrea', 'Via Giovanni Tomaso Invrea', 'Vico Invrea']"
      ]
     },
     "execution_count": 17,
     "metadata": {},
     "output_type": "execute_result"
    }
   ],
   "source": [
    "risultati"
   ]
  }
 ],
 "metadata": {
  "kernelspec": {
   "display_name": "ABBY",
   "language": "python",
   "name": "abby"
  },
  "language_info": {
   "codemirror_mode": {
    "name": "ipython",
    "version": 3
   },
   "file_extension": ".py",
   "mimetype": "text/x-python",
   "name": "python",
   "nbconvert_exporter": "python",
   "pygments_lexer": "ipython3",
   "version": "3.12.7"
  }
 },
 "nbformat": 4,
 "nbformat_minor": 2
}
