{
 "cells": [
  {
   "cell_type": "code",
   "execution_count": 1,
   "metadata": {},
   "outputs": [],
   "source": [
    "import folium\n",
    "from geopy.geocoders import Nominatim\n",
    "from geopy.distance import geodesic\n",
    "from geopy.exc import GeocoderTimedOut\n",
    "import pandas as pd\n"
   ]
  },
  {
   "cell_type": "markdown",
   "metadata": {},
   "source": [
    "Defined function that take two lists of addresses and return distance and geographic coordinates (like latitude and longitude)\n"
   ]
  },
  {
   "cell_type": "code",
   "execution_count": 2,
   "metadata": {},
   "outputs": [],
   "source": [
    "def Distance_coordinate_addresses(list_address1, list_address2):\n",
    "    \n",
    "    if not list_address1 or not list_address2:\n",
    "        raise ValueError(\"Entrambe le liste devono essere popolate da almeno un indirizzo\")\n",
    "    \n",
    "    if len(list_address1) != len(list_address2):\n",
    "        raise ValueError(\"Le due liste sono di dimensione differente\")\n",
    "    \n",
    "\n",
    "    geolocator = Nominatim(user_agent= \"My-Agent\", timeout= 10)\n",
    "    distance = []\n",
    "    coordinate = []\n",
    "\n",
    "    for i , (indirizzo1, indirizzo2) in enumerate(zip(list_address1, list_address2), start=1):\n",
    "        if not indirizzo1:\n",
    "            raise ValueError(f\"L'indirizzo in posizione {i} della prima lista è vuoto\")\n",
    "        location_ind1 = geolocator.geocode(indirizzo1)\n",
    "        if location_ind1 is None:\n",
    "            raise ValueError(f\"L'indirizzo {indirizzo1} in posizione {i} della prima lista non è valido o non è stato trovato\")\n",
    "        \n",
    "        ##### stessa cosa per gli indirizzi della seconda lista\n",
    "        if not indirizzo2:\n",
    "            raise ValueError(f\"L'indirizzo in posizione {i} della seconda lista è vuoto\")\n",
    "        location_ind2 = geolocator.geocode(indirizzo2)\n",
    "        if location_ind2 is None:\n",
    "            raise ValueError(f\"L'indirizzo {indirizzo2} in posizione {i} della seconda lista non è valido o non è stato trovato\")\n",
    "        \n",
    "        coordinate_1 = (location_ind1.latitude, location_ind1.longitude)\n",
    "        coordinate_2 = (location_ind2.latitude, location_ind2.longitude)\n",
    "        distanze = geodesic(coordinate_1, coordinate_2).kilometers\n",
    "        distance.append(distanze)\n",
    "        coordinate.append((coordinate_1, coordinate_2))\n",
    "\n",
    "    \n",
    "    return distance, coordinate"
   ]
  },
  {
   "cell_type": "code",
   "execution_count": 9,
   "metadata": {},
   "outputs": [],
   "source": [
    "l1 = ['Piazza San Marco, Venezia', 'Oxford Street, London']\n",
    "l2 = ['Via Marsala, Roma', 'Via Nino Bixio, Genova']\n"
   ]
  },
  {
   "cell_type": "code",
   "execution_count": null,
   "metadata": {},
   "outputs": [],
   "source": [
    "try:\n",
    "    distances, coordinates = Distance_coordinate_addresses(l1,l2)\n",
    "    for i, (distance, (c1, c2)) in enumerate(zip(distances, coordinates), start=1):\n",
    "        print(f\"Distanza tra gli indirizzi {i}: {distance:.2f} km\")\n",
    "        print(f\"Coordinate Indirizzo {i} - Lista 1: {c1}\")\n",
    "        print(f\"Coordinate Indirizzo {i} - Lista 2: {c2}\")\n",
    "except ValueError as e:\n",
    "    print(e)\n"
   ]
  },
  {
   "cell_type": "markdown",
   "metadata": {},
   "source": [
    "Defined the map center based on geographic coordinates"
   ]
  },
  {
   "cell_type": "code",
   "execution_count": 11,
   "metadata": {},
   "outputs": [],
   "source": [
    "def Centro_mappa(coordinates):\n",
    "    latitudes = [coord[0] for pair in coordinates for coord in pair]\n",
    "    longitudes = [coord[1] for pair in coordinates for coord in pair]\n",
    "    \n",
    "    center_lat = sum(latitudes) / len(latitudes)\n",
    "    center_lon = sum(longitudes) / len(longitudes)\n",
    "    \n",
    "    return [center_lat, center_lon]"
   ]
  },
  {
   "cell_type": "markdown",
   "metadata": {},
   "source": [
    "The map returns the distance in beeline between pairs of addresses. "
   ]
  },
  {
   "cell_type": "code",
   "execution_count": 14,
   "metadata": {},
   "outputs": [],
   "source": [
    "def Mappa_distanze_geo(coordinate):\n",
    "\n",
    "    map_center = Centro_mappa(coordinate)\n",
    "    \n",
    "\n",
    "    my_map = folium.Map(location=map_center, zoom_start=4)\n",
    "    \n",
    "    # Aggiungi i marker e la linea per ogni coppia di coordinate\n",
    "    for coord1, coord2 in coordinate:\n",
    "        # Aggiungi i marker per i due punti\n",
    "        folium.Marker(location=coord1, popup=\"Indirizzo 1\", icon=folium.Icon(color='blue')).add_to(my_map)\n",
    "        folium.Marker(location=coord2, popup=\"Indirizzo 2\", icon=folium.Icon(color='red')).add_to(my_map)\n",
    "        \n",
    "        # Aggiungi una linea tra i due punti\n",
    "        folium.PolyLine(locations=[coord1, coord2], color=\"black\", weight=2.5, opacity=0.5).add_to(my_map)\n",
    "    \n",
    "    # Salva la mappa come file HTML\n",
    "    nome_mappa = \"mappa_distanze_tra_indirizzi.html\"\n",
    "    my_map.save(nome_mappa)\n",
    "    print(f\"Mappa salvata come {nome_mappa}\")\n",
    "    \n",
    "    return nome_mappa"
   ]
  },
  {
   "cell_type": "code",
   "execution_count": null,
   "metadata": {},
   "outputs": [],
   "source": [
    "Mappa_distanze_geo(coordinates)"
   ]
  },
  {
   "cell_type": "code",
   "execution_count": null,
   "metadata": {},
   "outputs": [],
   "source": [
    "import os\n",
    "print(f\"File salvato in: {os.getcwd()}\")"
   ]
  }
 ],
 "metadata": {
  "kernelspec": {
   "display_name": "ABBY",
   "language": "python",
   "name": "abby"
  },
  "language_info": {
   "codemirror_mode": {
    "name": "ipython",
    "version": 3
   },
   "file_extension": ".py",
   "mimetype": "text/x-python",
   "name": "python",
   "nbconvert_exporter": "python",
   "pygments_lexer": "ipython3",
   "version": "3.12.7"
  }
 },
 "nbformat": 4,
 "nbformat_minor": 2
}
