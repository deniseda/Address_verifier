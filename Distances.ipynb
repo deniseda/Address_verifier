{
 "cells": [
  {
   "cell_type": "code",
   "execution_count": 12,
   "metadata": {},
   "outputs": [],
   "source": [
    "import folium\n",
    "from geopy.geocoders import Nominatim\n",
    "from geopy.distance import geodesic\n",
    "from geopy.exc import GeocoderTimedOut\n",
    "import pandas as pd\n",
    "\n",
    "\n",
    "# definire il path in cui è stato clonato il repository\n",
    "path =r\"/mnt/c/Users/denise/Sviluppo/Repos/Address_verifier/\"\n",
    "import sys\n",
    "sys.path.append(path)\n",
    "import functions as mav\n"
   ]
  },
  {
   "cell_type": "markdown",
   "metadata": {},
   "source": [
    "Defined function that take two lists of addresses and return distance and geographic coordinates (like latitude and longitude)\n"
   ]
  },
  {
   "cell_type": "code",
   "execution_count": 13,
   "metadata": {},
   "outputs": [],
   "source": [
    "l1 = ['Piazza San Marco, Venezia', 'Oxford Street, London']\n",
    "l2 = ['Via Marsala, Roma', 'Via Nino Bixio, Genova']\n"
   ]
  },
  {
   "cell_type": "code",
   "execution_count": null,
   "metadata": {},
   "outputs": [],
   "source": [
    "try:\n",
    "    distances, coordinates = mav.distance_coordinate_addresses(l1,l2)\n",
    "    for i, (distance, (c1, c2)) in enumerate(zip(distances, coordinates), start=1):\n",
    "        print(f\"Distanza tra gli indirizzi {i}: {distance:.2f} km\")\n",
    "        print(f\"Coordinate Indirizzo {i} - Lista 1: {c1}\")\n",
    "        print(f\"Coordinate Indirizzo {i} - Lista 2: {c2}\")\n",
    "except ValueError as e:\n",
    "    print(e)\n"
   ]
  },
  {
   "cell_type": "markdown",
   "metadata": {},
   "source": [
    "Defined the map center based on geographic coordinates\\\n",
    "The map returns the distance in beeline between pairs of addresses. "
   ]
  },
  {
   "cell_type": "code",
   "execution_count": null,
   "metadata": {},
   "outputs": [],
   "source": [
    "mav.mappa_distanze_geo(coordinates)"
   ]
  },
  {
   "cell_type": "code",
   "execution_count": null,
   "metadata": {},
   "outputs": [],
   "source": [
    "import os\n",
    "print(f\"File salvato in: {os.getcwd()}\")"
   ]
  }
 ],
 "metadata": {
  "kernelspec": {
   "display_name": "ABBY",
   "language": "python",
   "name": "abby"
  },
  "language_info": {
   "codemirror_mode": {
    "name": "ipython",
    "version": 3
   },
   "file_extension": ".py",
   "mimetype": "text/x-python",
   "name": "python",
   "nbconvert_exporter": "python",
   "pygments_lexer": "ipython3",
   "version": "3.12.7"
  }
 },
 "nbformat": 4,
 "nbformat_minor": 2
}
